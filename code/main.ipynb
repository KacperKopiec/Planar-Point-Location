{
 "cells": [
  {
   "cell_type": "code",
   "execution_count": 1,
   "metadata": {},
   "outputs": [],
   "source": [
    "from data_structures.Point import Point\n",
    "from data_structures.Segment import Segment\n",
    "from data_structures.Trapezoid import Trapezoid\n",
    "from data_structures.TrapezoidalMap import TrapezoidalMap\n",
    "from visualisation import *\n",
    "from examples import *"
   ]
  },
  {
   "cell_type": "code",
   "execution_count": 2,
   "metadata": {},
   "outputs": [],
   "source": [
    "def map_building_steps(segments: list[Segment]):\n",
    "    T = TrapezoidalMap(segments)\n",
    "    for s in range(len(T.frames)):\n",
    "        showMap(T, T.frames[s], T.segments[:s])"
   ]
  },
  {
   "cell_type": "code",
   "execution_count": 4,
   "metadata": {},
   "outputs": [
    {
     "name": "stdout",
     "output_type": "stream",
     "text": [
      "(200,2)\n"
     ]
    }
   ],
   "source": [
    "makeGif(serce,\"serce\",Point(200,2))"
   ]
  }
 ],
 "metadata": {
  "kernelspec": {
   "display_name": "Python 3",
   "language": "python",
   "name": "python3"
  },
  "language_info": {
   "codemirror_mode": {
    "name": "ipython",
    "version": 3
   },
   "file_extension": ".py",
   "mimetype": "text/x-python",
   "name": "python",
   "nbconvert_exporter": "python",
   "pygments_lexer": "ipython3",
   "version": "3.12.8"
  }
 },
 "nbformat": 4,
 "nbformat_minor": 2
}
